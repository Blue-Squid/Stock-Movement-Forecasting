{
 "cells": [
  {
   "cell_type": "code",
   "execution_count": 1,
   "metadata": {},
   "outputs": [],
   "source": [
    "import pandas as pd \n",
    "import numpy as np\n",
    "from pandas_datareader import data as pdr \n",
    "import yfinance as yf \n",
    "import matplotlib \n",
    "import matplotlib.pyplot as plt\n",
    "import datetime "
   ]
  },
  {
   "cell_type": "code",
   "execution_count": 2,
   "metadata": {},
   "outputs": [
    {
     "name": "stdout",
     "output_type": "stream",
     "text": [
      "[*********************100%***********************]  1 of 1 downloaded\n"
     ]
    }
   ],
   "source": [
    "yf.pdr_override()\n",
    "\n",
    "# reading stock data into a DataFrame\n",
    "start_date = datetime.datetime(2009, 1, 1)\n",
    "end_date = datetime.datetime(2019, 10, 5)\n",
    "data = pdr.get_data_yahoo('AMZN', start = start_date, end = end_date) "
   ]
  },
  {
   "cell_type": "code",
   "execution_count": 3,
   "metadata": {},
   "outputs": [
    {
     "data": {
      "text/html": [
       "<div>\n",
       "<style scoped>\n",
       "    .dataframe tbody tr th:only-of-type {\n",
       "        vertical-align: middle;\n",
       "    }\n",
       "\n",
       "    .dataframe tbody tr th {\n",
       "        vertical-align: top;\n",
       "    }\n",
       "\n",
       "    .dataframe thead th {\n",
       "        text-align: right;\n",
       "    }\n",
       "</style>\n",
       "<table border=\"1\" class=\"dataframe\">\n",
       "  <thead>\n",
       "    <tr style=\"text-align: right;\">\n",
       "      <th></th>\n",
       "      <th>Open</th>\n",
       "      <th>High</th>\n",
       "      <th>Low</th>\n",
       "      <th>Close</th>\n",
       "      <th>Adj Close</th>\n",
       "      <th>Volume</th>\n",
       "      <th>Returns</th>\n",
       "    </tr>\n",
       "    <tr>\n",
       "      <th>Date</th>\n",
       "      <th></th>\n",
       "      <th></th>\n",
       "      <th></th>\n",
       "      <th></th>\n",
       "      <th></th>\n",
       "      <th></th>\n",
       "      <th></th>\n",
       "    </tr>\n",
       "  </thead>\n",
       "  <tbody>\n",
       "    <tr>\n",
       "      <th>2008-12-31</th>\n",
       "      <td>50.74</td>\n",
       "      <td>51.69</td>\n",
       "      <td>49.91</td>\n",
       "      <td>51.28</td>\n",
       "      <td>51.236667</td>\n",
       "      <td>7792200</td>\n",
       "      <td>NaN</td>\n",
       "    </tr>\n",
       "    <tr>\n",
       "      <th>2009-01-02</th>\n",
       "      <td>51.35</td>\n",
       "      <td>54.53</td>\n",
       "      <td>51.07</td>\n",
       "      <td>54.36</td>\n",
       "      <td>53.413333</td>\n",
       "      <td>7296400</td>\n",
       "      <td>0.058328</td>\n",
       "    </tr>\n",
       "    <tr>\n",
       "      <th>2009-01-05</th>\n",
       "      <td>55.73</td>\n",
       "      <td>55.74</td>\n",
       "      <td>53.03</td>\n",
       "      <td>54.06</td>\n",
       "      <td>55.176667</td>\n",
       "      <td>9509800</td>\n",
       "      <td>-0.005534</td>\n",
       "    </tr>\n",
       "    <tr>\n",
       "      <th>2009-01-06</th>\n",
       "      <td>54.55</td>\n",
       "      <td>58.22</td>\n",
       "      <td>53.75</td>\n",
       "      <td>57.36</td>\n",
       "      <td>56.710000</td>\n",
       "      <td>11080100</td>\n",
       "      <td>0.059253</td>\n",
       "    </tr>\n",
       "    <tr>\n",
       "      <th>2009-01-07</th>\n",
       "      <td>56.29</td>\n",
       "      <td>56.95</td>\n",
       "      <td>55.35</td>\n",
       "      <td>56.20</td>\n",
       "      <td>56.480000</td>\n",
       "      <td>7942700</td>\n",
       "      <td>-0.020430</td>\n",
       "    </tr>\n",
       "    <tr>\n",
       "      <th>2009-01-08</th>\n",
       "      <td>54.99</td>\n",
       "      <td>57.32</td>\n",
       "      <td>54.58</td>\n",
       "      <td>57.16</td>\n",
       "      <td>56.490000</td>\n",
       "      <td>6577900</td>\n",
       "      <td>0.016938</td>\n",
       "    </tr>\n",
       "    <tr>\n",
       "      <th>2009-01-09</th>\n",
       "      <td>56.92</td>\n",
       "      <td>57.00</td>\n",
       "      <td>54.70</td>\n",
       "      <td>55.51</td>\n",
       "      <td>56.476667</td>\n",
       "      <td>6684100</td>\n",
       "      <td>-0.029291</td>\n",
       "    </tr>\n",
       "    <tr>\n",
       "      <th>2009-01-12</th>\n",
       "      <td>54.12</td>\n",
       "      <td>54.30</td>\n",
       "      <td>50.87</td>\n",
       "      <td>51.92</td>\n",
       "      <td>53.446667</td>\n",
       "      <td>9556300</td>\n",
       "      <td>-0.066859</td>\n",
       "    </tr>\n",
       "    <tr>\n",
       "      <th>2009-01-13</th>\n",
       "      <td>50.96</td>\n",
       "      <td>53.29</td>\n",
       "      <td>50.75</td>\n",
       "      <td>51.45</td>\n",
       "      <td>51.900000</td>\n",
       "      <td>7883200</td>\n",
       "      <td>-0.009094</td>\n",
       "    </tr>\n",
       "    <tr>\n",
       "      <th>2009-01-14</th>\n",
       "      <td>50.10</td>\n",
       "      <td>50.10</td>\n",
       "      <td>48.14</td>\n",
       "      <td>48.49</td>\n",
       "      <td>49.563333</td>\n",
       "      <td>10442600</td>\n",
       "      <td>-0.059253</td>\n",
       "    </tr>\n",
       "  </tbody>\n",
       "</table>\n",
       "</div>"
      ],
      "text/plain": [
       "             Open   High    Low  Close  Adj Close    Volume   Returns\n",
       "Date                                                                 \n",
       "2008-12-31  50.74  51.69  49.91  51.28  51.236667   7792200       NaN\n",
       "2009-01-02  51.35  54.53  51.07  54.36  53.413333   7296400  0.058328\n",
       "2009-01-05  55.73  55.74  53.03  54.06  55.176667   9509800 -0.005534\n",
       "2009-01-06  54.55  58.22  53.75  57.36  56.710000  11080100  0.059253\n",
       "2009-01-07  56.29  56.95  55.35  56.20  56.480000   7942700 -0.020430\n",
       "2009-01-08  54.99  57.32  54.58  57.16  56.490000   6577900  0.016938\n",
       "2009-01-09  56.92  57.00  54.70  55.51  56.476667   6684100 -0.029291\n",
       "2009-01-12  54.12  54.30  50.87  51.92  53.446667   9556300 -0.066859\n",
       "2009-01-13  50.96  53.29  50.75  51.45  51.900000   7883200 -0.009094\n",
       "2009-01-14  50.10  50.10  48.14  48.49  49.563333  10442600 -0.059253"
      ]
     },
     "execution_count": 3,
     "metadata": {},
     "output_type": "execute_result"
    }
   ],
   "source": [
    "# Redefining Adj Close \n",
    "data['Adj Close'] = (data.Open + data.High + data.Close) / 3\n",
    "# calculating Daily returns. \n",
    "data['Returns'] = np.log(data['Close'] / data['Close'].shift(1))  \n",
    "data.head(10) "
   ]
  },
  {
   "cell_type": "code",
   "execution_count": 4,
   "metadata": {},
   "outputs": [],
   "source": [
    "def classifier(returns) : \n",
    "    if(returns > 0) : \n",
    "        return 1 \n",
    "    else : \n",
    "        return -1"
   ]
  },
  {
   "cell_type": "code",
   "execution_count": 5,
   "metadata": {},
   "outputs": [],
   "source": [
    "data['Returns'] = np.log(data.Close / data.Close.shift(1)) "
   ]
  },
  {
   "cell_type": "code",
   "execution_count": 6,
   "metadata": {},
   "outputs": [],
   "source": [
    "data.fillna(0, inplace = True) "
   ]
  },
  {
   "cell_type": "markdown",
   "metadata": {},
   "source": [
    "Checked for Infinte and Negative infinite value, found none. "
   ]
  },
  {
   "cell_type": "code",
   "execution_count": 7,
   "metadata": {},
   "outputs": [],
   "source": [
    "data['Target'] = data.Returns.apply(classifier) "
   ]
  },
  {
   "cell_type": "markdown",
   "metadata": {},
   "source": [
    "We want to build a model based on past behaviour and test our predictions on more recent data. \n",
    "* Training - 85% | Test - 15%"
   ]
  },
  {
   "cell_type": "code",
   "execution_count": 8,
   "metadata": {},
   "outputs": [],
   "source": [
    "test_data = data[-int((len(data) * 0.15)):] # recent 15% \n",
    "train_data = data[:int(len(data) * 0.85)] # earlier 85% "
   ]
  },
  {
   "cell_type": "code",
   "execution_count": 9,
   "metadata": {},
   "outputs": [],
   "source": [
    "# X, y for Train and Test \n",
    "X_train = train_data.drop('Target', axis = 1) \n",
    "y_train = train_data.Target \n",
    "X_test = test_data.drop('Target', axis = 1) \n",
    "y_test = test_data.Target "
   ]
  },
  {
   "cell_type": "code",
   "execution_count": 10,
   "metadata": {},
   "outputs": [
    {
     "name": "stdout",
     "output_type": "stream",
     "text": [
      "Base Model Accuracy =  97.291\n"
     ]
    }
   ],
   "source": [
    "# Base Model: Good Old LogReg \n",
    "from sklearn.linear_model import LogisticRegression\n",
    "from sklearn.metrics import accuracy_score, confusion_matrix\n",
    "base_model = LogisticRegression(penalty = 'l1', solver = 'liblinear') \n",
    "base_model.fit(X_train, y_train) \n",
    "predictions = base_model.predict(X_test) \n",
    "print('Base Model Accuracy = ', round(accuracy_score(y_test, predictions) * 100, 3))  "
   ]
  },
  {
   "cell_type": "code",
   "execution_count": 11,
   "metadata": {},
   "outputs": [],
   "source": [
    "def model_report(clf, X_train, y_train, X_test, y_test, train = True) : \n",
    "    from sklearn.linear_model import LogisticRegression \n",
    "    from sklearn.model_selection import cross_val_score, cross_val_predict \n",
    "    from sklearn.metrics import accuracy_score, classification_report, confusion_matrix \n",
    "    \n",
    "    if train: \n",
    "        print('Training Report') \n",
    "        print('Accuracy = {0:.4f} \\n'.format(accuracy_score(y_train, clf.predict(X_train)))) \n",
    "        print('Classification Report: \\n {} \\n'.format(classification_report(y_train, clf.predict(X_train)))) \n",
    "        print('Confusion Matrix: \\n {} \\n'.format(confusion_matrix(y_train, clf.predict(X_train)))) \n",
    "        result = cross_val_score(clf, X_train, y_train, cv = 10, scoring = 'accuracy') \n",
    "        print('Cross Validataion: ') \n",
    "        print('Average Accuracy = {0:.4f}'.format(np.mean(result))) \n",
    "        print('Std_Dev Accuracy = {0:.4f}'.format(np.std(result))) \n",
    "    elif (train == False): \n",
    "        print('Test Report') \n",
    "        print('Accuracy = {0:.4f}'.format(accuracy_score(y_test, clf.predict(X_test)))) \n",
    "        print('Classification Report \\n {} \\n'.format(classification_report(y_test, clf.predict(X_test))))\n",
    "        print('Confusion Matrix: \\n {} \\n'.format(confusion_matrix(y_test, clf.predict(X_test)))) "
   ]
  },
  {
   "cell_type": "code",
   "execution_count": 12,
   "metadata": {},
   "outputs": [
    {
     "name": "stdout",
     "output_type": "stream",
     "text": [
      "Training Report\n",
      "Accuracy = 0.9961 \n",
      "\n",
      "Classification Report: \n",
      "               precision    recall  f1-score   support\n",
      "\n",
      "          -1       1.00      1.00      1.00      1097\n",
      "           1       1.00      1.00      1.00      1205\n",
      "\n",
      "    accuracy                           1.00      2302\n",
      "   macro avg       1.00      1.00      1.00      2302\n",
      "weighted avg       1.00      1.00      1.00      2302\n",
      " \n",
      "\n",
      "Confusion Matrix: \n",
      " [[1093    4]\n",
      " [   5 1200]] \n",
      "\n",
      "Cross Validataion: \n",
      "Average Accuracy = 0.9900\n",
      "Std_Dev Accuracy = 0.0204\n"
     ]
    },
    {
     "name": "stderr",
     "output_type": "stream",
     "text": [
      "C:\\Users\\siddh\\Anaconda3\\lib\\site-packages\\sklearn\\svm\\base.py:929: ConvergenceWarning: Liblinear failed to converge, increase the number of iterations.\n",
      "  \"the number of iterations.\", ConvergenceWarning)\n"
     ]
    }
   ],
   "source": [
    "model_report(base_model, X_train, y_train, X_test, y_test)   "
   ]
  },
  {
   "cell_type": "code",
   "execution_count": 13,
   "metadata": {},
   "outputs": [
    {
     "name": "stdout",
     "output_type": "stream",
     "text": [
      "Test Report\n",
      "Accuracy = 0.9729\n",
      "Classification Report \n",
      "               precision    recall  f1-score   support\n",
      "\n",
      "          -1       1.00      0.94      0.97       183\n",
      "           1       0.95      1.00      0.98       223\n",
      "\n",
      "    accuracy                           0.97       406\n",
      "   macro avg       0.98      0.97      0.97       406\n",
      "weighted avg       0.97      0.97      0.97       406\n",
      " \n",
      "\n",
      "Confusion Matrix: \n",
      " [[172  11]\n",
      " [  0 223]] \n",
      "\n"
     ]
    }
   ],
   "source": [
    "model_report(base_model, X_train, y_train, X_test, y_test, False)  "
   ]
  },
  {
   "cell_type": "code",
   "execution_count": 14,
   "metadata": {},
   "outputs": [],
   "source": [
    "import pickle \n",
    "# saving model \n",
    "filename = 'base_model.sav' \n",
    "pickle.dump(base_model, open(filename, 'wb')) \n",
    "# saving data \n",
    "data.to_csv('data.csv') "
   ]
  }
 ],
 "metadata": {
  "kernelspec": {
   "display_name": "Python 3",
   "language": "python",
   "name": "python3"
  },
  "language_info": {
   "codemirror_mode": {
    "name": "ipython",
    "version": 3
   },
   "file_extension": ".py",
   "mimetype": "text/x-python",
   "name": "python",
   "nbconvert_exporter": "python",
   "pygments_lexer": "ipython3",
   "version": "3.7.4"
  },
  "latex_envs": {
   "LaTeX_envs_menu_present": true,
   "autoclose": false,
   "autocomplete": true,
   "bibliofile": "biblio.bib",
   "cite_by": "apalike",
   "current_citInitial": 1,
   "eqLabelWithNumbers": true,
   "eqNumInitial": 1,
   "hotkeys": {
    "equation": "Ctrl-E",
    "itemize": "Ctrl-I"
   },
   "labels_anchors": false,
   "latex_user_defs": false,
   "report_style_numbering": false,
   "user_envs_cfg": false
  },
  "toc": {
   "base_numbering": 1,
   "nav_menu": {},
   "number_sections": true,
   "sideBar": true,
   "skip_h1_title": false,
   "title_cell": "Table of Contents",
   "title_sidebar": "Contents",
   "toc_cell": false,
   "toc_position": {},
   "toc_section_display": true,
   "toc_window_display": false
  }
 },
 "nbformat": 4,
 "nbformat_minor": 2
}
